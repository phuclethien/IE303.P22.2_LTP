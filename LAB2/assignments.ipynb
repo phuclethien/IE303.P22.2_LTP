{
 "cells": [
  {
   "cell_type": "markdown",
   "metadata": {},
   "source": [
    "### Bài 1 (2 điểm):\n",
    "\n",
    "- Xây dựng cửa sổ với kích thước $width \\times height = 360 \\times 640$ với yêu cầu cửa sổ không thể thay đổi kích thước.\n",
    "\n",
    "- Đặt tên cửa sổ là *Flappy Bird*. Thay đổi hình nền của cửa sổ bằng file ảnh `flappybirdbg.png`. "
   ]
  },
  {
   "cell_type": "markdown",
   "metadata": {},
   "source": [
    "### Bài 2 (3 điểm):\n",
    "\n",
    "- Thêm đối tượng `Bird` vào trong giao diện trò chơi với giao diện sử dụng hình ảnh `flappybird.png`. \n",
    "- Thiết lập các hiệu ứng rớt xuống theo phương thẳng đứng và di chuyển lên cao khi ấn phím `space` hoặc `enter`."
   ]
  },
  {
   "cell_type": "markdown",
   "metadata": {},
   "source": [
    "### Bài 3 (2 điểm):\n",
    "\n",
    "- Thiết lập các chu trình vận hành trò chơi *(game loop)*.\n",
    "- Thêm đối tượng đối tượng `Pipe` vào giao diện trò chơi sử dụng hình ảnh `toppipe.png` và `bottompipe.png`.\n",
    "- Thiết lập hiệu ứng di chuyển và hiệu ứng xuất hiện với độ dài ngắn khác nhau của các đối tượng `Pipe`."
   ]
  },
  {
   "cell_type": "markdown",
   "metadata": {},
   "source": [
    "### Bài 4 (3 điểm):\n",
    "\n",
    "- Thiết lập cơ chế tính điểm và cơ chế game over.\n",
    "- Thiết lập tính năng restart cho trò chơi."
   ]
  },
  {
   "cell_type": "markdown",
   "metadata": {},
   "source": []
  }
 ],
 "metadata": {
  "language_info": {
   "name": "python"
  }
 },
 "nbformat": 4,
 "nbformat_minor": 2
}
